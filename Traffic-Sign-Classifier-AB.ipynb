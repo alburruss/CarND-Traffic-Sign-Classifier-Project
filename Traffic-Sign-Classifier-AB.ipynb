{
 "cells": [
  {
   "cell_type": "markdown",
   "metadata": {},
   "source": [
    "# Self-Driving Car Engineer Nanodegree\n",
    "\n",
    "## Deep Learning\n",
    "\n",
    "## Project: Build a Traffic Sign Recognition Classifier\n",
    "\n",
    "In this notebook, a template is provided for you to implement your functionality in stages, which is required to successfully complete this project. If additional code is required that cannot be included in the notebook, be sure that the Python code is successfully imported and included in your submission if necessary. \n",
    "\n",
    "> **Note**: Once you have completed all of the code implementations, you need to finalize your work by exporting the iPython Notebook as an HTML document. Before exporting the notebook to html, all of the code cells need to have been run so that reviewers can see the final implementation and output. You can then export the notebook by using the menu above and navigating to  \\n\",\n",
    "    \"**File -> Download as -> HTML (.html)**. Include the finished document along with this notebook as your submission. \n",
    "\n",
    "In addition to implementing code, there is a writeup to complete. The writeup should be completed in a separate file, which can be either a markdown file or a pdf document. There is a [write up template](https://github.com/udacity/CarND-Traffic-Sign-Classifier-Project/blob/master/writeup_template.md) that can be used to guide the writing process. Completing the code template and writeup template will cover all of the [rubric points](https://review.udacity.com/#!/rubrics/481/view) for this project.\n",
    "\n",
    "The [rubric](https://review.udacity.com/#!/rubrics/481/view) contains \"Stand Out Suggestions\" for enhancing the project beyond the minimum requirements. The stand out suggestions are optional. If you decide to pursue the \"stand out suggestions\", you can include the code in this Ipython notebook and also discuss the results in the writeup file.\n",
    "\n",
    "\n",
    ">**Note:** Code and Markdown cells can be executed using the **Shift + Enter** keyboard shortcut. In addition, Markdown cells can be edited by typically double-clicking the cell to enter edit mode."
   ]
  },
  {
   "cell_type": "markdown",
   "metadata": {},
   "source": [
    "---\n",
    "## Step 0: Load The Data"
   ]
  },
  {
   "cell_type": "code",
   "execution_count": null,
   "metadata": {
    "collapsed": false,
    "scrolled": true
   },
   "outputs": [],
   "source": [
    "# edit: July 03 2017\n",
    "# Andrew Burruss\n",
    "# web download data: for VM only\n",
    "import requests, zipfile, io\n",
    "\n",
    "r = requests.get(\"https://d17h27t6h515a5.cloudfront.net/topher/2017/February/5898cd6f_traffic-signs-data/traffic-signs-data.zip\")\n",
    "z = zipfile.ZipFile(io.BytesIO(r.content))\n",
    "z.extractall()\n"
   ]
  },
  {
   "cell_type": "code",
   "execution_count": null,
   "metadata": {
    "collapsed": false
   },
   "outputs": [],
   "source": [
    "# Load pickled data\n",
    "import pickle\n",
    "\n",
    "# Fill this in based on where you saved the training and testing data\n",
    "\n",
    "training_file = \"train.p\"\n",
    "validation_file= \"valid.p\"\n",
    "testing_file = \"test.p\"\n",
    "\n",
    "with open(training_file, mode='rb') as f:\n",
    "    train = pickle.load(f)\n",
    "with open(validation_file, mode='rb') as f:\n",
    "    valid = pickle.load(f)\n",
    "with open(testing_file, mode='rb') as f:\n",
    "    test = pickle.load(f)\n",
    "    \n",
    "X_train, y_train = train['features'], train['labels']\n",
    "X_valid, y_valid = valid['features'], valid['labels']\n",
    "X_test, y_test = test['features'], test['labels']"
   ]
  },
  {
   "cell_type": "markdown",
   "metadata": {},
   "source": [
    "---\n",
    "\n",
    "## Step 1: Dataset Summary & Exploration\n",
    "\n",
    "The pickled data is a dictionary with 4 key/value pairs:\n",
    "\n",
    "- `'features'` is a 4D array containing raw pixel data of the traffic sign images, (num examples, width, height, channels).\n",
    "- `'labels'` is a 1D array containing the label/class id of the traffic sign. The file `signnames.csv` contains id -> name mappings for each id.\n",
    "- `'sizes'` is a list containing tuples, (width, height) representing the original width and height the image.\n",
    "- `'coords'` is a list containing tuples, (x1, y1, x2, y2) representing coordinates of a bounding box around the sign in the image. **THESE COORDINATES ASSUME THE ORIGINAL IMAGE. THE PICKLED DATA CONTAINS RESIZED VERSIONS (32 by 32) OF THESE IMAGES**\n",
    "\n",
    "Complete the basic data summary below. Use python, numpy and/or pandas methods to calculate the data summary rather than hard coding the results. For example, the [pandas shape method](http://pandas.pydata.org/pandas-docs/stable/generated/pandas.DataFrame.shape.html) might be useful for calculating some of the summary results. "
   ]
  },
  {
   "cell_type": "markdown",
   "metadata": {},
   "source": [
    "### Provide a Basic Summary of the Data Set Using Python, Numpy and/or Pandas"
   ]
  },
  {
   "cell_type": "code",
   "execution_count": null,
   "metadata": {
    "collapsed": false
   },
   "outputs": [],
   "source": [
    "### Replace each question mark with the appropriate value. \n",
    "### Use python, pandas or numpy methods rather than hard coding the results\n",
    "import matplotlib.pyplot as plt\n",
    "import matplotlib.image as mpimg\n",
    "import numpy as np\n",
    "\n",
    "# Visualizations will be shown in the notebook.\n",
    "%matplotlib inline\n",
    "\n",
    "image = X_train[0]\n",
    "\n",
    "# TODO: Number of training examples\n",
    "n_train = len(X_train)\n",
    "\n",
    "# TODO: Number of testing examples.\n",
    "n_test = len(X_test)\n",
    "\n",
    "n_valid = len(X_valid)\n",
    "\n",
    "# TODO: What's the shape of an traffic sign image?\n",
    "# matplotlib triple(length, width, layers)\n",
    "image_shape = image.shape\n",
    "\n",
    "\n",
    "\n",
    "print(\"Number of training examples =\", n_train)\n",
    "print(\"Number of testing examples =\", n_test)\n",
    "print(\"Number of validation examples =\", n_valid)\n",
    "print(\"Image data shape =\", image_shape)\n"
   ]
  },
  {
   "cell_type": "code",
   "execution_count": null,
   "metadata": {
    "collapsed": false
   },
   "outputs": [],
   "source": [
    "# sample labels in training set\n",
    "\n",
    "# TODO: How many unique classes/labels there are in the dataset.\n",
    "\n",
    "# validation set\n",
    "val_set = set()\n",
    "for j in range(n_valid):\n",
    "    val_set.add(y_valid[j])\n",
    "    \n",
    "# testing set\n",
    "test_set = set()\n",
    "for j in range(n_test):\n",
    "    test_set.add(y_test[j])\n",
    "\n",
    "# training set\n",
    "train_set = set()\n",
    "for j in range(n_train):\n",
    "    train_set.add(y_train[j])\n",
    "\n",
    "print(\"val_set\")\n",
    "print (len(val_set))\n",
    "print(\"test_set\")\n",
    "print (len(test_set))\n",
    "print(\"train_set\")\n",
    "print (len(train_set))\n",
    "# print (val_set)\n",
    "\n",
    "n_classes = len(val_set)\n",
    "print(\"Number of classes =\", n_classes)\n"
   ]
  },
  {
   "cell_type": "code",
   "execution_count": null,
   "metadata": {
    "collapsed": false
   },
   "outputs": [],
   "source": [
    "# find number of training examples per data label\n",
    "# compare relative frequencies to testing set\n",
    "\n",
    "# rearrange labels in 43 x 1 array\n",
    "train_array = [[] for y in range(43)]\n",
    "test_array = [[] for y in range(43)]\n",
    "\n",
    "x = 34799\n",
    "y = 12630\n",
    "\n",
    "# iterate training set\n",
    "for j in range(n_train):\n",
    "    k = y_train[j]\n",
    "    #print(k)\n",
    "    train_array[k].append(k)\n",
    "    \n",
    "# iterate testing set\n",
    "for j in range(n_test):\n",
    "    k = y_test[j]\n",
    "    #print(k)\n",
    "    test_array[k].append(k)\n",
    "\n",
    "# label: length dictionary\n",
    "train_freq = {}\n",
    "test_freq = {}\n",
    "\n",
    "# class: freq and rel freq: training set\n",
    "for j in range(len(train_array)):\n",
    "    train_freq[j] = [len(train_array[j]), len(train_array[j])/x ]\n",
    "    \n",
    "    #train_freq[j].append(len(train_array[j]/x))\n",
    "    #print(\"length train_array row\", j)\n",
    "    #print(len(train_array[j]))\n",
    "\n",
    "#print(train_freq)\n",
    "\n",
    "# class: freq and rel freq: testing set\n",
    "for j in range(len(test_array)):\n",
    "    test_freq[j] = [len(test_array[j]), len(test_array[j])/y ]\n",
    "\n",
    "\n",
    "# differences of rel freq\n",
    "diff = []\n",
    "a = 0\n",
    "b = 0\n",
    "for j in range(43):\n",
    "    z = train_freq[j][1] - test_freq[j][1]\n",
    "    diff.append(z)\n",
    "    if abs(z) > 0.001:\n",
    "        a += 1\n",
    "        if abs(z) >= 0.005:\n",
    "            b += 1\n",
    "\n",
    "print(b, \" classes differ by 1/2 %\")\n",
    "print(a, \" classes differ by 0.1% \")\n",
    "print(\"differences in relative frequencies\")\n",
    "print(diff)\n"
   ]
  },
  {
   "cell_type": "markdown",
   "metadata": {},
   "source": [
    "### Include an exploratory visualization of the dataset"
   ]
  },
  {
   "cell_type": "markdown",
   "metadata": {},
   "source": [
    "Visualize the German Traffic Signs Dataset using the pickled file(s). This is open ended, suggestions include: plotting traffic sign images, plotting the count of each sign, etc.\n",
    "\n",
    "The [Matplotlib](http://matplotlib.org/) [examples](http://matplotlib.org/examples/index.html) and [gallery](http://matplotlib.org/gallery.html) pages are a great resource for doing visualizations in Python.\n",
    "\n",
    "**NOTE:** It's recommended you start with something simple first. If you wish to do more, come back to it after you've completed the rest of the sections."
   ]
  },
  {
   "cell_type": "code",
   "execution_count": null,
   "metadata": {
    "collapsed": false
   },
   "outputs": [],
   "source": [
    "# print sample from X_train\n",
    "image = X_train[301]\n",
    "# print out sample img, dimensions and plot\n",
    "print('This image is:', type(image), 'with dimesions:', image.shape)\n",
    "print('Label of training img 101', y_train[301])\n",
    "\n",
    "plt.imshow(image)"
   ]
  },
  {
   "cell_type": "code",
   "execution_count": null,
   "metadata": {
    "collapsed": false
   },
   "outputs": [],
   "source": [
    "# print multiple samples from X_train\n",
    "for i in range(9):\n",
    "    plt.subplot(3,3,i+1)\n",
    "\n",
    "    plt.imshow(X_train[(i*100)+1])\n",
    "    plt.title(y_train[(i*100)+1],fontsize=10)\n",
    "    plt.axis('off')\n",
    "\n",
    "    \n",
    "plt.show()"
   ]
  },
  {
   "cell_type": "markdown",
   "metadata": {},
   "source": [
    "As we see in these nine examples from the training set, there are varying degrees of over and under-exposure of the images."
   ]
  },
  {
   "cell_type": "code",
   "execution_count": null,
   "metadata": {
    "collapsed": false
   },
   "outputs": [],
   "source": [
    "# img manipulation: overexposed img\n",
    "from skimage.color import rgb2gray\n",
    "from skimage.exposure import rescale_intensity as rescale\n",
    "from skimage.exposure import equalize_adapthist as eq\n",
    "from skimage.exposure import adjust_gamma as gamma\n",
    "\n",
    "img = X_train[401]\n",
    "# print out sample img, dimensions and plot\n",
    "print('This image is:', type(image), 'with dimesions:', image.shape)\n",
    "print('training img 201: Label: ', y_train[401])\n",
    "\n",
    "# grayscale\n",
    "img2 = rgb2gray(img)\n",
    "\n",
    "# img adjust_gamma\n",
    "img_gam = gamma(img2,gamma=0.25, gain=1)\n",
    "\n",
    "# img Normalization: rescale_intensity\n",
    "img_rescale = rescale(img2, in_range = 'image', out_range = (-0.5, 0.5) )\n",
    "\n",
    "print(\"grayscale: norm\")\n",
    "plt.imshow(img_rescale, cmap='gray')\n",
    "plt.axis('off')"
   ]
  },
  {
   "cell_type": "code",
   "execution_count": null,
   "metadata": {
    "collapsed": false
   },
   "outputs": [],
   "source": [
    "# img manipulation: dark underexposed img\n",
    "from skimage.color import rgb2gray\n",
    "from skimage.exposure import rescale_intensity as rescale\n",
    "from skimage.exposure import equalize_adapthist as eq\n",
    "from skimage.exposure import adjust_gamma as gamma\n",
    "\n",
    "img = X_train[201]\n",
    "# print out sample img, dimensions and plot\n",
    "print('This image is:', type(image), 'with dimesions:', image.shape)\n",
    "print('training img 201: Label: ', y_train[201])\n",
    "\n",
    "# grayscale\n",
    "img2 = rgb2gray(img)\n",
    "\n",
    "# img adjust_gamma\n",
    "img_gam = gamma(img2,gamma=0.25, gain=1)\n",
    "\n",
    "# img Normalization: rescale_intensity\n",
    "img_rescale = rescale(img2, in_range = 'image', out_range = (-0.5, 0.5) )\n",
    "\n",
    "# eq adapthist\n",
    "img_eq = eq(img2, kernel_size=None, clip_limit=0.01, nbins=256)\n",
    "\n",
    "# rescaled CLAHE\n",
    "img_eq_re = rescale(img_eq, in_range = 'image', out_range = (-0.5, 0.5) )\n",
    "\n",
    "print(\"grayscale: norm\")\n",
    "plt.imshow(img_rescale, cmap='gray')\n",
    "plt.axis('off')"
   ]
  },
  {
   "cell_type": "code",
   "execution_count": null,
   "metadata": {
    "collapsed": false
   },
   "outputs": [],
   "source": [
    "print(\"grayscale: gamma\")\n",
    "plt.imshow(img_gam, cmap='gray')\n",
    "plt.axis('off')"
   ]
  },
  {
   "cell_type": "code",
   "execution_count": null,
   "metadata": {
    "collapsed": false
   },
   "outputs": [],
   "source": [
    "print(\"grayscale: CLAHE: rescaled\")\n",
    "plt.imshow(img_eq_re, cmap='gray')\n",
    "plt.axis('off')"
   ]
  },
  {
   "cell_type": "code",
   "execution_count": null,
   "metadata": {
    "collapsed": false
   },
   "outputs": [],
   "source": [
    "### Data exploration visualization code goes here.\n",
    "### Feel free to use as many code cells as needed.\n",
    "# grey --> contrast stretching: normalize -->  reshape\n",
    "# print sample from X_train\n",
    "\n",
    "from skimage.color import rgb2gray\n",
    "from skimage.exposure import rescale_intensity as rescale\n",
    "from skimage.exposure import equalize_adapthist as eq\n",
    "from skimage.exposure import adjust_gamma as gamma\n",
    "\n",
    "\n",
    "s = (32, 32, 3)\n",
    "out = np.empty(s)\n",
    "img = X_train[201]\n",
    "\n",
    "# print out array data for img\n",
    "print('img')\n",
    "print('This image is:', type(img), 'with dimesions:', img.shape)\n",
    "print('Label ', y_train[201])\n",
    "\n",
    "# grey\n",
    "img2 = rgb2gray(img)\n",
    "\n",
    "\n",
    "# print out array data for greyscale transformed img\n",
    "print('img2')\n",
    "print('This image is:', type(img2), 'with dimesions:', img2.shape)\n",
    "print('Label ', y_train[201])\n",
    "print('Greyscale transformed data')\n",
    "#for j in range(32):\n",
    "#    print(np.asarray(img2[j]))\n",
    "\n",
    "# resize\n",
    "#img3 = np.asarray(img2).reshape((32, 32, 1))\n",
    "\n",
    "# img adjust_gamma\n",
    "img_gam = gamma(img2,gamma=0.25, gain=1)\n",
    "\n",
    "# img Normalization: rescale_intensity\n",
    "img_rescale = rescale(img_gam, in_range = 'image', out_range = (-0.5, 0.5) )\n",
    "\n",
    "#display\n",
    "print('This image is:', type(img_rescale), 'with dimesions:', img_rescale.shape)\n",
    "print('Label ', y_train[201])\n",
    "print('rescale_intensity transformed data: five transforms of original image')\n",
    "\n",
    "#plt.imshow(img_rescale, cmap='gray')\n",
    "\n",
    "#display multiple\n",
    "# img, img2, img_gam, img_rescale, img_T\n",
    "\n",
    "# transposed img\n",
    "img_T = img_rescale.transpose()\n",
    "\n",
    "# swap axes img\n",
    "img_F0 = np.flip(img_rescale, 0)\n",
    "img_F1 = np.flip(img_rescale, 1)\n",
    "img_TF0 = np.flip(img_T, 0)\n",
    "img_TF1 = np.flip(img_T, 1)\n",
    "\n",
    "img_list0 = [img, img2, img_gam, img_rescale, img_F0, img_F1, img_T, img_TF0, img_TF1]\n",
    "\n",
    "for i in range(9):\n",
    "    plt.subplot(3,3,i+1)\n",
    "\n",
    "    plt.imshow(img_list0[i], cmap='gray')\n",
    "    plt.title(y_train[201],fontsize=10)\n",
    "    plt.axis('off')\n",
    "\n",
    "    \n",
    "plt.show()"
   ]
  },
  {
   "cell_type": "markdown",
   "metadata": {},
   "source": [
    "The first image is the original, second is the grayscale transformation, and the gamma transformation appears third in the top row.  We see that the gamma transformation makes the dark parts of the underexposed image appear more clearly."
   ]
  },
  {
   "cell_type": "code",
   "execution_count": null,
   "metadata": {
    "collapsed": false
   },
   "outputs": [],
   "source": [
    "# print sample from X_valid\n",
    "img = X_valid[400]\n",
    "# print out sample img, dimensions and plot\n",
    "print('This image is:', type(img), 'with dimesions:', img.shape)\n",
    "print('Label 0 ', y_valid[400])\n",
    "\n",
    "# grey\n",
    "img2 = rgb2gray(img)\n",
    "\n",
    "# img adjust_gamma\n",
    "img_gam = gamma(img2,gamma=0.25, gain=1)\n",
    "# img Normalization: rescale_intensity\n",
    "img_rescale = rescale(img_gam, in_range = 'image', out_range = (-0.5, 0.5) )\n",
    "\n",
    "plt.imshow(img_rescale, cmap='gray')"
   ]
  },
  {
   "cell_type": "code",
   "execution_count": null,
   "metadata": {
    "collapsed": false
   },
   "outputs": [],
   "source": [
    "# print sample from X_train\n",
    "img = X_test[500]\n",
    "# print out sample img, dimensions and plot\n",
    "print('This image is:', type(img), 'with dimesions:', img.shape)\n",
    "print('Label 0 ', y_test[500])\n",
    "\n",
    "# grey\n",
    "img2 = rgb2gray(img)\n",
    "# img adjust_gamma\n",
    "img_gam = gamma(img2,gamma=0.25, gain=1)\n",
    "# img Normalization: rescale_intensity\n",
    "img_rescale = rescale(img_gam, in_range = 'image', out_range = (-0.5, 0.5) )\n",
    "\n",
    "plt.imshow(img_rescale, cmap='gray')"
   ]
  },
  {
   "cell_type": "markdown",
   "metadata": {},
   "source": [
    "----\n",
    "\n",
    "## Step 2: Design and Test a Model Architecture\n",
    "\n",
    "Design and implement a deep learning model that learns to recognize traffic signs. Train and test your model on the [German Traffic Sign Dataset](http://benchmark.ini.rub.de/?section=gtsrb&subsection=dataset).\n",
    "\n",
    "The LeNet-5 implementation shown in the [classroom](https://classroom.udacity.com/nanodegrees/nd013/parts/fbf77062-5703-404e-b60c-95b78b2f3f9e/modules/6df7ae49-c61c-4bb2-a23e-6527e69209ec/lessons/601ae704-1035-4287-8b11-e2c2716217ad/concepts/d4aca031-508f-4e0b-b493-e7b706120f81) at the end of the CNN lesson is a solid starting point. You'll have to change the number of classes and possibly the preprocessing, but aside from that it's plug and play! \n",
    "\n",
    "With the LeNet-5 solution from the lecture, you should expect a validation set accuracy of about 0.89. To meet specifications, the validation set accuracy will need to be at least 0.93. It is possible to get an even higher accuracy, but 0.93 is the minimum for a successful project submission. \n",
    "\n",
    "There are various aspects to consider when thinking about this problem:\n",
    "\n",
    "- Neural network architecture (is the network over or underfitting?)\n",
    "- Play around preprocessing techniques (normalization, rgb to grayscale, etc)\n",
    "- Number of examples per label (some have more than others).\n",
    "- Generate fake data.\n",
    "\n",
    "Here is an example of a [published baseline model on this problem](http://yann.lecun.com/exdb/publis/pdf/sermanet-ijcnn-11.pdf). It's not required to be familiar with the approach used in the paper but, it's good practice to try to read papers like these."
   ]
  },
  {
   "cell_type": "markdown",
   "metadata": {},
   "source": [
    "### Pre-process the Data Set (normalization, grayscale, etc.)"
   ]
  },
  {
   "cell_type": "markdown",
   "metadata": {},
   "source": [
    "Use the code cell (or multiple code cells, if necessary) to implement the first step of your project."
   ]
  },
  {
   "cell_type": "code",
   "execution_count": null,
   "metadata": {
    "collapsed": false
   },
   "outputs": [],
   "source": [
    "### Preprocess the data here. Preprocessing steps could include normalization, \n",
    "### converting to grayscale, etc.\n",
    "### Feel free to use as many code cells as needed.\n",
    "\n",
    "# shuffle training data set\n",
    "from sklearn.utils import shuffle\n",
    "\n",
    "X_train, y_train = shuffle(X_train, y_train)\n",
    "\n",
    "# print sample img\n",
    "image = X_train[301]\n",
    "#print out sample img, dimensions and plot\n",
    "print('This image is:', type(image), 'with dimesions:', image.shape)\n",
    "print('Label of training img 101 is ', y_train[301])\n",
    "\n",
    "plt.imshow(image)\n"
   ]
  },
  {
   "cell_type": "code",
   "execution_count": null,
   "metadata": {
    "collapsed": false
   },
   "outputs": [],
   "source": [
    "from skimage.color import rgb2gray\n",
    "from skimage import exposure\n",
    "\n",
    "# validation data set\n",
    "\n",
    "X_valid_G = []\n",
    "\n",
    "# pre-process routine\n",
    "\n",
    "for i in range(len(X_valid)):\n",
    "    img = X_valid[i]\n",
    "    \n",
    "    # grey\n",
    "    img2 = rgb2gray(img)\n",
    "    # img adjust_gamma\n",
    "    img_gam = gamma(img2,gamma=0.25, gain=1)   \n",
    "    # img Normalization: rescale_intensity\n",
    "    eq_img = rescale(img_gam, in_range = 'image', out_range = (-0.5, 0.5) )\n",
    "    # reshape\n",
    "    img3 = np.asarray(eq_img).reshape((32, 32, 1))\n",
    "    # append original\n",
    "    X_valid_G.append( img3 )\n",
    "\n",
    "print(len(X_valid_G))\n",
    "print(X_valid_G[0].shape)"
   ]
  },
  {
   "cell_type": "code",
   "execution_count": null,
   "metadata": {
    "collapsed": false
   },
   "outputs": [],
   "source": [
    "# testing dataset\n",
    "\n",
    "X_test_G = []\n",
    "\n",
    "# pre-process routine\n",
    "for i in range(len(X_test)):\n",
    "    img_t = X_test[i]\n",
    "    \n",
    "    # convert X_train imgs to grayscale\n",
    "    img_t2 = rgb2gray(img_t)\n",
    "    # img adjust_gamma\n",
    "    img_tgam = gamma(img_t2,gamma=0.25, gain=1)\n",
    "    # img Normalization: rescale_intensity\n",
    "    eq_t2img = rescale(img_tgam, in_range = 'image', out_range = (-0.5, 0.5) )\n",
    "\n",
    "    # reshape\n",
    "    img_t4 = np.asarray(eq_t2img).reshape((32, 32, 1))\n",
    "    \n",
    "    X_test_G.append( img_t4 )\n",
    "\n",
    "print(len(X_test_G))\n",
    "print(X_test_G[0].shape)"
   ]
  },
  {
   "cell_type": "code",
   "execution_count": null,
   "metadata": {
    "collapsed": false
   },
   "outputs": [],
   "source": [
    "# training data set\n",
    "# original training set length = 34799\n",
    "\n",
    "X_train_G = []\n",
    "y_train_G = []\n",
    "\n",
    "# convert X_train imgs to grayscale\n",
    "for i in range(len(X_train)):\n",
    "    img_r = X_train[i]\n",
    "    \n",
    "    # greyscale transform\n",
    "    img_r2 = rgb2gray(img_r)\n",
    "    # img adjust_gamma\n",
    "    img_rgam = gamma(img_r2,gamma=0.25, gain=1)\n",
    "    # img Normalization: rescale_intensity\n",
    "    eq_r2_img = rescale(img_rgam, in_range = 'image', out_range = (-0.5, 0.5) )    \n",
    "    # reshape\n",
    "    img_r3 = np.asarray(eq_r2_img).reshape((32, 32, 1))\n",
    "    # append original\n",
    "    X_train_G.append( img_r3 )\n",
    "    y_train_G.append(y_train[i])\n",
    "    \n",
    "    ### augment training set\n",
    "    #transform: transpose rescaled img\n",
    "    img_T = eq_r2_img.transpose()     \n",
    "    # reshape\n",
    "    img_rT = np.asarray(img_T).reshape((32, 32, 1))\n",
    "    # append transposed img\n",
    "    X_train_G.append( img_rT )\n",
    "    y_train_G.append(y_train[i])\n",
    "    \n",
    "    # noisy transform of img: eq adapthist\n",
    "    img_eq = eq(img2, kernel_size=None, clip_limit=0.01, nbins=256)\n",
    "    # rescaled CLAHE: normalized\n",
    "    img_eq_re = rescale(img_eq, in_range = 'image', out_range = (-0.5, 0.5) )\n",
    "    # reshape\n",
    "    img_eq_r = np.asarray(img_eq_re).reshape((32, 32, 1))\n",
    "    # append transposed img\n",
    "    X_train_G.append( img_eq_r )\n",
    "    y_train_G.append(y_train[i])\n",
    "\n",
    "print(\"X_train_G length\", len(X_train_G) )\n",
    "print(\"y_train_G length\", len(y_train_G))\n",
    "print(\"data shape\", X_train_G[0].shape)"
   ]
  },
  {
   "cell_type": "markdown",
   "metadata": {},
   "source": [
    "### Model Architecture"
   ]
  },
  {
   "cell_type": "code",
   "execution_count": null,
   "metadata": {
    "collapsed": false
   },
   "outputs": [],
   "source": [
    "### Define your architecture here.\n",
    "### Feel free to use as many code cells as needed.\n",
    "\n",
    "import tensorflow as tf\n",
    "\n",
    "EPOCHS = 30\n",
    "BATCH_SIZE = 100"
   ]
  },
  {
   "cell_type": "code",
   "execution_count": null,
   "metadata": {
    "collapsed": true
   },
   "outputs": [],
   "source": [
    "# filter depth 32, 64\n",
    "# two fully connected layers\n",
    "\n",
    "from tensorflow.contrib.layers import flatten\n",
    "\n",
    "def LeNet(x):    \n",
    "    # Arguments used for tf.truncated_normal, randomly defines variables for the weights and biases for each layer\n",
    "    mu = 0\n",
    "    sigma = 0.1\n",
    "    dropout = 0.70\n",
    "    \n",
    "    # Layer 1: Convolutional. Input = 32x32x1. Output = 28x28x32.\n",
    "    conv1_W = tf.Variable(tf.truncated_normal(shape=(5, 5, 1, 32), mean = mu, stddev = sigma))\n",
    "    conv1_b = tf.Variable(tf.zeros(32))\n",
    "    conv1   = tf.nn.conv2d(x, conv1_W, strides=[1, 1, 1, 1], padding='VALID') + conv1_b\n",
    "\n",
    "    # L1 Activation.\n",
    "    conv1 = tf.nn.relu(conv1)\n",
    "\n",
    "    # Pooling. Input = 28x28x32. Output = 14x14x32.\n",
    "    conv1 = tf.nn.max_pool(conv1, ksize=[1, 2, 2, 1], strides=[1, 2, 2, 1], padding='VALID')\n",
    "\n",
    "    # Layer 2: Convolutional. Output = 10x10x64.\n",
    "    conv2_W = tf.Variable(tf.truncated_normal(shape=(5, 5, 32, 64), mean = mu, stddev = sigma))\n",
    "    conv2_b = tf.Variable(tf.zeros(64))\n",
    "    conv2   = tf.nn.conv2d(conv1, conv2_W, strides=[1, 1, 1, 1], padding='VALID') + conv2_b\n",
    "    \n",
    "    # L2 Activation.\n",
    "    conv2 = tf.nn.relu(conv2)\n",
    "\n",
    "    # Pooling. Input = 10x10x64. Output = 5x5x64.\n",
    "    conv2 = tf.nn.max_pool(conv2, ksize=[1, 2, 2, 1], strides=[1, 2, 2, 1], padding='VALID')\n",
    "\n",
    "    # Flatten. Input = 5x5x64. Output = 1600.\n",
    "    fc0   = flatten(conv2)\n",
    "    \n",
    "    # Layer 3: Fully Connected. Input = 1600. Output = 120.\n",
    "    fc1_W = tf.Variable(tf.truncated_normal(shape=(1600, 120), mean = mu, stddev = sigma))\n",
    "    fc1_b = tf.Variable(tf.zeros(120))\n",
    "    fc1   = tf.matmul(fc0, fc1_W) + fc1_b\n",
    "    \n",
    "    # L3 Activation.\n",
    "    fc1    = tf.nn.relu(fc1)\n",
    "    # apply dropout\n",
    "    fc1 = tf.nn.dropout(fc1, dropout)\n",
    "    \n",
    "    # Layer 4: Fully Connected. Input = 120. Output = n_classes(43).\n",
    "    fc2_W  = tf.Variable(tf.truncated_normal(shape=(120, n_classes), mean = mu, stddev = sigma))\n",
    "    fc2_b  = tf.Variable(tf.zeros(n_classes))\n",
    "    logits = tf.matmul(fc1, fc2_W) + fc2_b\n",
    "    \n",
    "    return logits"
   ]
  },
  {
   "cell_type": "markdown",
   "metadata": {},
   "source": [
    "### Train, Validate and Test the Model"
   ]
  },
  {
   "cell_type": "markdown",
   "metadata": {},
   "source": [
    "A validation set can be used to assess how well the model is performing. A low accuracy on the training and validation\n",
    "sets imply underfitting. A high accuracy on the training set but low accuracy on the validation set implies overfitting."
   ]
  },
  {
   "cell_type": "code",
   "execution_count": null,
   "metadata": {
    "collapsed": true
   },
   "outputs": [],
   "source": [
    "### Train your model here.\n",
    "### Calculate and report the accuracy on the training and validation set.\n",
    "### Once a final model architecture is selected, \n",
    "### the accuracy on the test set should be calculated and reported as well.\n",
    "### Feel free to use as many code cells as needed.\n",
    "\n",
    "# features and labels\n",
    "x = tf.placeholder(tf.float32, (None, 32, 32, 1))\n",
    "y = tf.placeholder(tf.int32, (None))\n",
    "one_hot_y = tf.one_hot(y, n_classes)"
   ]
  },
  {
   "cell_type": "code",
   "execution_count": null,
   "metadata": {
    "collapsed": false
   },
   "outputs": [],
   "source": [
    "# training pipeline\n",
    "\n",
    "rate = 0.001\n",
    "\n",
    "logits = LeNet(x)\n",
    "cross_entropy = tf.nn.softmax_cross_entropy_with_logits(logits, one_hot_y)\n",
    "loss_operation = tf.reduce_mean(cross_entropy)\n",
    "optimizer = tf.train.AdamOptimizer(learning_rate = rate)\n",
    "training_operation = optimizer.minimize(loss_operation)"
   ]
  },
  {
   "cell_type": "code",
   "execution_count": null,
   "metadata": {
    "collapsed": true
   },
   "outputs": [],
   "source": [
    "# Model evaluation\n",
    "\n",
    "correct_prediction = tf.equal(tf.argmax(logits, 1), tf.argmax(one_hot_y, 1))\n",
    "accuracy_operation = tf.reduce_mean(tf.cast(correct_prediction, tf.float32))\n",
    "saver = tf.train.Saver()\n",
    "\n",
    "def evaluate(X_data, y_data):\n",
    "    num_examples = len(X_data)\n",
    "    total_accuracy = 0\n",
    "    sess = tf.get_default_session()\n",
    "    for offset in range(0, num_examples, BATCH_SIZE):\n",
    "        batch_x, batch_y = X_data[offset:offset+BATCH_SIZE], y_data[offset:offset+BATCH_SIZE]\n",
    "        accuracy = sess.run(accuracy_operation, feed_dict={x: batch_x, y: batch_y})\n",
    "        total_accuracy += (accuracy * len(batch_x))\n",
    "    return total_accuracy / num_examples"
   ]
  },
  {
   "cell_type": "code",
   "execution_count": null,
   "metadata": {
    "collapsed": false,
    "scrolled": true
   },
   "outputs": [],
   "source": [
    "# Train the Model\n",
    "from sklearn.utils import shuffle\n",
    "\n",
    "with tf.Session() as sess:\n",
    "    sess.run(tf.global_variables_initializer())\n",
    "    num_examples = len(X_train_G)\n",
    "    \n",
    "    print(\"Training...\")\n",
    "    print()\n",
    "    for i in range(EPOCHS):\n",
    "        X_train_G, y_train_G = shuffle(X_train_G, y_train_G)\n",
    "        for offset in range(0, num_examples, BATCH_SIZE):\n",
    "            end = offset + BATCH_SIZE\n",
    "            batch_x, batch_y = X_train_G[offset:end], y_train_G[offset:end]\n",
    "            sess.run(training_operation, feed_dict={x: batch_x, y: batch_y})\n",
    "            \n",
    "        validation_accuracy = evaluate(X_valid_G, y_valid)\n",
    "        print(\"EPOCH {} ...\".format(i+1))\n",
    "        print(\"Validation Accuracy = {:.3f}\".format(validation_accuracy))\n",
    "        print()\n",
    "        \n",
    "    saver.save(sess, './lenet')\n",
    "    print(\"Model saved\")"
   ]
  },
  {
   "cell_type": "code",
   "execution_count": null,
   "metadata": {
    "collapsed": false
   },
   "outputs": [],
   "source": [
    "# Evaluate the model\n",
    "\n",
    "with tf.Session() as sess:\n",
    "    saver.restore(sess, tf.train.latest_checkpoint('.'))\n",
    "\n",
    "    test_accuracy = evaluate(X_test_G, y_test)\n",
    "    print(\"Test Accuracy = {:.3f}\".format(test_accuracy))"
   ]
  },
  {
   "cell_type": "markdown",
   "metadata": {},
   "source": [
    "---\n",
    "\n",
    "## Step 3: Test a Model on New Images\n",
    "\n",
    "To give yourself more insight into how your model is working, download at least five pictures of German traffic signs from the web and use your model to predict the traffic sign type.\n",
    "\n",
    "You may find `signnames.csv` useful as it contains mappings from the class id (integer) to the actual sign name."
   ]
  },
  {
   "cell_type": "markdown",
   "metadata": {},
   "source": [
    "### Load and Output the Images"
   ]
  },
  {
   "cell_type": "code",
   "execution_count": null,
   "metadata": {
    "collapsed": false
   },
   "outputs": [],
   "source": [
    "### Load the images and plot them here.\n",
    "### Feel free to use as many code cells as needed.\n",
    "import cv2\n",
    "\n",
    "img_trial = []\n",
    "img_01 = cv2.imread(\"new_imgs/img_01.jpg\")\n",
    "print(type(img_01))\n",
    "img_trial.append(img_01)\n",
    "img_012 = cv2.imread(\"new_imgs/img_012.jpg\")\n",
    "img_trial.append(img_012)\n",
    "img_27 = cv2.imread(\"new_imgs/img_27.jpg\")\n",
    "img_trial.append(img_27)\n",
    "img_35 = cv2.imread(\"new_imgs/img_35.jpg\")\n",
    "img_trial.append(img_35)\n",
    "img_37 = cv2.imread(\"new_imgs/img_37.jpg\")\n",
    "img_trial.append(img_37)\n"
   ]
  },
  {
   "cell_type": "code",
   "execution_count": null,
   "metadata": {
    "collapsed": true
   },
   "outputs": [],
   "source": [
    "# img preparation\n",
    "img_trprep = []\n",
    "\n",
    "for i in range(len(img_trial)):\n",
    "    img = img_trial[i]\n",
    "    \n",
    "    # greyscale transform\n",
    "    img2 = rgb2gray(img)\n",
    "    # img adjust_gamma\n",
    "    img_gam = gamma(img2,gamma=0.25, gain=1)\n",
    "    # img Normalization: rescale_intensity\n",
    "    eq_img = rescale(img_gam, in_range = 'image', out_range = (-0.5, 0.5) )    \n",
    "    # reshape\n",
    "    img3 = np.asarray(eq_img).reshape((32, 32, 1))\n",
    "    # append\n",
    "    img_trprep.append( img3 )\n",
    "    \n",
    "for i in range(len(img_trprep)):\n",
    "    plt.subplot(3,3,i+1)\n",
    "\n",
    "    plt.imshow(img_trprep[i])\n",
    "    plt.axis('off')\n",
    "\n",
    "    \n",
    "plt.show()"
   ]
  },
  {
   "cell_type": "code",
   "execution_count": null,
   "metadata": {
    "collapsed": true
   },
   "outputs": [],
   "source": [
    "# check img classes\n",
    "# 1, 12, 27, 35, 37"
   ]
  },
  {
   "cell_type": "markdown",
   "metadata": {},
   "source": [
    "### Predict the Sign Type for Each Image"
   ]
  },
  {
   "cell_type": "code",
   "execution_count": null,
   "metadata": {
    "collapsed": true
   },
   "outputs": [],
   "source": [
    "### Run the predictions here and use the model to output the prediction for each image.\n",
    "### Make sure to pre-process the images with the same pre-processing pipeline used earlier.\n",
    "### Feel free to use as many code cells as needed."
   ]
  },
  {
   "cell_type": "markdown",
   "metadata": {},
   "source": [
    "### Analyze Performance"
   ]
  },
  {
   "cell_type": "code",
   "execution_count": null,
   "metadata": {
    "collapsed": true
   },
   "outputs": [],
   "source": [
    "### Calculate the accuracy for these 5 new images. \n",
    "### For example, if the model predicted 1 out of 5 signs correctly, it's 20% accurate on these new images."
   ]
  },
  {
   "cell_type": "markdown",
   "metadata": {},
   "source": [
    "### Output Top 5 Softmax Probabilities For Each Image Found on the Web"
   ]
  },
  {
   "cell_type": "markdown",
   "metadata": {},
   "source": [
    "For each of the new images, print out the model's softmax probabilities to show the **certainty** of the model's predictions (limit the output to the top 5 probabilities for each image). [`tf.nn.top_k`](https://www.tensorflow.org/versions/r0.12/api_docs/python/nn.html#top_k) could prove helpful here. \n",
    "\n",
    "The example below demonstrates how tf.nn.top_k can be used to find the top k predictions for each image.\n",
    "\n",
    "`tf.nn.top_k` will return the values and indices (class ids) of the top k predictions. So if k=3, for each sign, it'll return the 3 largest probabilities (out of a possible 43) and the correspoding class ids.\n",
    "\n",
    "Take this numpy array as an example. The values in the array represent predictions. The array contains softmax probabilities for five candidate images with six possible classes. `tk.nn.top_k` is used to choose the three classes with the highest probability:\n",
    "\n",
    "```\n",
    "# (5, 6) array\n",
    "a = np.array([[ 0.24879643,  0.07032244,  0.12641572,  0.34763842,  0.07893497,\n",
    "         0.12789202],\n",
    "       [ 0.28086119,  0.27569815,  0.08594638,  0.0178669 ,  0.18063401,\n",
    "         0.15899337],\n",
    "       [ 0.26076848,  0.23664738,  0.08020603,  0.07001922,  0.1134371 ,\n",
    "         0.23892179],\n",
    "       [ 0.11943333,  0.29198961,  0.02605103,  0.26234032,  0.1351348 ,\n",
    "         0.16505091],\n",
    "       [ 0.09561176,  0.34396535,  0.0643941 ,  0.16240774,  0.24206137,\n",
    "         0.09155967]])\n",
    "```\n",
    "\n",
    "Running it through `sess.run(tf.nn.top_k(tf.constant(a), k=3))` produces:\n",
    "\n",
    "```\n",
    "TopKV2(values=array([[ 0.34763842,  0.24879643,  0.12789202],\n",
    "       [ 0.28086119,  0.27569815,  0.18063401],\n",
    "       [ 0.26076848,  0.23892179,  0.23664738],\n",
    "       [ 0.29198961,  0.26234032,  0.16505091],\n",
    "       [ 0.34396535,  0.24206137,  0.16240774]]), indices=array([[3, 0, 5],\n",
    "       [0, 1, 4],\n",
    "       [0, 5, 1],\n",
    "       [1, 3, 5],\n",
    "       [1, 4, 3]], dtype=int32))\n",
    "```\n",
    "\n",
    "Looking just at the first row we get `[ 0.34763842,  0.24879643,  0.12789202]`, you can confirm these are the 3 largest probabilities in `a`. You'll also notice `[3, 0, 5]` are the corresponding indices."
   ]
  },
  {
   "cell_type": "code",
   "execution_count": null,
   "metadata": {
    "collapsed": true
   },
   "outputs": [],
   "source": [
    "### Print out the top five softmax probabilities for the predictions on the German traffic sign images found on the web. \n",
    "### Feel free to use as many code cells as needed."
   ]
  },
  {
   "cell_type": "markdown",
   "metadata": {},
   "source": [
    "---\n",
    "\n",
    "## Step 4: Visualize the Neural Network's State with Test Images\n",
    "\n",
    " This Section is not required to complete but acts as an additional excersise for understaning the output of a neural network's weights. While neural networks can be a great learning device they are often referred to as a black box. We can understand what the weights of a neural network look like better by plotting their feature maps. After successfully training your neural network you can see what it's feature maps look like by plotting the output of the network's weight layers in response to a test stimuli image. From these plotted feature maps, it's possible to see what characteristics of an image the network finds interesting. For a sign, maybe the inner network feature maps react with high activation to the sign's boundary outline or to the contrast in the sign's painted symbol.\n",
    "\n",
    " Provided for you below is the function code that allows you to get the visualization output of any tensorflow weight layer you want. The inputs to the function should be a stimuli image, one used during training or a new one you provided, and then the tensorflow variable name that represents the layer's state during the training process, for instance if you wanted to see what the [LeNet lab's](https://classroom.udacity.com/nanodegrees/nd013/parts/fbf77062-5703-404e-b60c-95b78b2f3f9e/modules/6df7ae49-c61c-4bb2-a23e-6527e69209ec/lessons/601ae704-1035-4287-8b11-e2c2716217ad/concepts/d4aca031-508f-4e0b-b493-e7b706120f81) feature maps looked like for it's second convolutional layer you could enter conv2 as the tf_activation variable.\n",
    "\n",
    "For an example of what feature map outputs look like, check out NVIDIA's results in their paper [End-to-End Deep Learning for Self-Driving Cars](https://devblogs.nvidia.com/parallelforall/deep-learning-self-driving-cars/) in the section Visualization of internal CNN State. NVIDIA was able to show that their network's inner weights had high activations to road boundary lines by comparing feature maps from an image with a clear path to one without. Try experimenting with a similar test to show that your trained network's weights are looking for interesting features, whether it's looking at differences in feature maps from images with or without a sign, or even what feature maps look like in a trained network vs a completely untrained one on the same sign image.\n",
    "\n",
    "<figure>\n",
    " <img src=\"visualize_cnn.png\" width=\"380\" alt=\"Combined Image\" />\n",
    " <figcaption>\n",
    " <p></p> \n",
    " <p style=\"text-align: center;\"> Your output should look something like this (above)</p> \n",
    " </figcaption>\n",
    "</figure>\n",
    " <p></p> \n"
   ]
  },
  {
   "cell_type": "code",
   "execution_count": null,
   "metadata": {
    "collapsed": true
   },
   "outputs": [],
   "source": [
    "### Visualize your network's feature maps here.\n",
    "### Feel free to use as many code cells as needed.\n",
    "\n",
    "# image_input: the test image being fed into the network to produce the feature maps\n",
    "# tf_activation: should be a tf variable name used during your training procedure that represents the calculated state of a specific weight layer\n",
    "# activation_min/max: can be used to view the activation contrast in more detail, by default matplot sets min and max to the actual min and max values of the output\n",
    "# plt_num: used to plot out multiple different weight feature map sets on the same block, just extend the plt number for each new feature map entry\n",
    "\n",
    "def outputFeatureMap(image_input, tf_activation, activation_min=-1, activation_max=-1 ,plt_num=1):\n",
    "    # Here make sure to preprocess your image_input in a way your network expects\n",
    "    # with size, normalization, ect if needed\n",
    "    # image_input =\n",
    "    # Note: x should be the same name as your network's tensorflow data placeholder variable\n",
    "    # If you get an error tf_activation is not defined it maybe having trouble accessing the variable from inside a function\n",
    "    activation = tf_activation.eval(session=sess,feed_dict={x : image_input})\n",
    "    featuremaps = activation.shape[3]\n",
    "    plt.figure(plt_num, figsize=(15,15))\n",
    "    for featuremap in range(featuremaps):\n",
    "        plt.subplot(6,8, featuremap+1) # sets the number of feature maps to show on each row and column\n",
    "        plt.title('FeatureMap ' + str(featuremap)) # displays the feature map number\n",
    "        if activation_min != -1 & activation_max != -1:\n",
    "            plt.imshow(activation[0,:,:, featuremap], interpolation=\"nearest\", vmin =activation_min, vmax=activation_max, cmap=\"gray\")\n",
    "        elif activation_max != -1:\n",
    "            plt.imshow(activation[0,:,:, featuremap], interpolation=\"nearest\", vmax=activation_max, cmap=\"gray\")\n",
    "        elif activation_min !=-1:\n",
    "            plt.imshow(activation[0,:,:, featuremap], interpolation=\"nearest\", vmin=activation_min, cmap=\"gray\")\n",
    "        else:\n",
    "            plt.imshow(activation[0,:,:, featuremap], interpolation=\"nearest\", cmap=\"gray\")"
   ]
  },
  {
   "cell_type": "markdown",
   "metadata": {},
   "source": [
    "### Question 9\n",
    "\n",
    "Discuss how you used the visual output of your trained network's feature maps to show that it had learned to look for interesting characteristics in traffic sign images\n"
   ]
  },
  {
   "cell_type": "markdown",
   "metadata": {},
   "source": [
    "**Answer:**"
   ]
  },
  {
   "cell_type": "markdown",
   "metadata": {},
   "source": [
    "> **Note**: Once you have completed all of the code implementations and successfully answered each question above, you may finalize your work by exporting the iPython Notebook as an HTML document. You can do this by using the menu above and navigating to  \\n\",\n",
    "    \"**File -> Download as -> HTML (.html)**. Include the finished document along with this notebook as your submission."
   ]
  },
  {
   "cell_type": "markdown",
   "metadata": {},
   "source": [
    "### Project Writeup\n",
    "\n",
    "Once you have completed the code implementation, document your results in a project writeup using this [template](https://github.com/udacity/CarND-Traffic-Sign-Classifier-Project/blob/master/writeup_template.md) as a guide. The writeup can be in a markdown or pdf file. "
   ]
  }
 ],
 "metadata": {
  "anaconda-cloud": {},
  "kernelspec": {
   "display_name": "Python 3",
   "language": "python",
   "name": "python3"
  },
  "language_info": {
   "codemirror_mode": {
    "name": "ipython",
    "version": 3
   },
   "file_extension": ".py",
   "mimetype": "text/x-python",
   "name": "python",
   "nbconvert_exporter": "python",
   "pygments_lexer": "ipython3",
   "version": "3.5.2"
  }
 },
 "nbformat": 4,
 "nbformat_minor": 1
}
